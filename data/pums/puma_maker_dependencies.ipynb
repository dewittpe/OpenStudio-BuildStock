{
 "cells": [
  {
   "cell_type": "markdown",
   "metadata": {},
   "source": [
    "# TSV Maker for housing characteristics using PUMA data\n",
    "\n",
    "**Contributors** : Tobi Adekanye\n",
    "\n",
    "**Date Created** : January 14, 2020\n",
    "\n",
    "Housing characteristics tsvs are presently created using EPW weather files. However, these are large areas with multiple cities and counties making up an EPW region. We use Public Use Microdata Areas (PUMA) to create smaller, more spatially relevant regions to represent some of the housing characteristics. This notebook restructures the PUMA data to create the relevant tsvs housing characteristics. \n",
    "\n",
    "There are two files that need to be downloaded for the tsv maker to work:\n",
    "\n",
    "1. **PUMA data (csv)** : this file contains the different housing characteristics and household weights for the PUMA areas\n",
    "2. **Data dictionary (xls)** : the PUMA data codes the different housing characteristics as integer data. This file   contains several sheets which map the integer data to the respective names. It also contains ResStock mapping in the case that the census mapping does not match that which presently is used in-house. "
   ]
  },
  {
   "cell_type": "markdown",
   "metadata": {},
   "source": [
    "# Inputs\n",
    "\n",
    "Some inputs for this notebook.\n",
    "- `write_tf(bool)`: Flag to write the created tsv files\n",
    "- `project(string)`: the name of the project file where the tsv will be copied into. This input does not matter if `write_tf=False`.\n",
    "- `dep_lst(list(str))`: list of the dependencies needed for the tsv file\n",
    "- `option_col(string)`: the name of the field which the dependencies will be distributed against\n",
    "\n",
    "**Note**: dep_lst and option_col need to be specified as named in the PUMA tsv file else the tsv maker will not run as appropriate. "
   ]
  },
  {
   "cell_type": "markdown",
   "metadata": {},
   "source": [
    "# PUMA fields list\n",
    "\n",
    "The columns contained in the PUMA data csv file are as follows:\n",
    "\n",
    "- **YEAR**: Census Year\n",
    "- **MULTYEAR**: Actual year of survey, multiyear ACS\n",
    "- **SAMPLE**: IPUMS sample identifier\n",
    "- **SERIAL**: Household serial number\n",
    "- **CBSERIAL**: Original Census Bureau household serial number\n",
    "- **HHWT**: Household weight\n",
    "- **STATEICP**: State (ICPSR code)\n",
    "- **STATEFIP**: State (FIPS code)\n",
    "- **COUNTYICP**: County (ICPSR code)\n",
    "- **COUNTYFIP**: County (FIPS code)\n",
    "- **PUMA**: Public Use Microdata Area\n",
    "- **GQ**: Group quarters status\n",
    "- **OWNERSHP**: Ownership of dwelling (tenure) (general version)\n",
    "- **OWNERSHPD**: Ownership of dwelling (tenure) (detailed version)\n",
    "- **COSTELEC**: Annual electricity cost\n",
    "- **COSTGAS**: Annual gas cost\n",
    "- **COSTWATER**: Annual water cost\n",
    "- **COSTFUEL**: Annual home heating fuel\n",
    "- **VACANCY**: Vacancy status\n",
    "- **ROOMS**: Number of rooms\n",
    "- **BUILTYR2**: Age of structure (decade)\n",
    "- **UNITSSTR**: Units in structure\n",
    "- **BEDROOMS**: Number of bedrooms\n",
    "- **FUELHEAT**: Home heating fuel\n",
    "- **PERNUM**: Person number in sample unit\n",
    "- **PERWT**: Person weight\n",
    "\n",
    "\n",
    "As stated above, `dep_lst` and `option_col` need to specified as one/more of the field descriptions in the PUMA data csv file as follows. The table below provides a mapping of some of the PUMA data csc columns to the present housing characteristic columns available. \n",
    "\n",
    "| PUMA description | Present housing xtic. description |\n",
    "|------------------|-----------------------------------|\n",
    "| UNITSSTR         | Geometry Building Type FPL        |\n",
    "| BEDROOMS         | Bedrooms                          |\n",
    "| BUILTYR2         | Vintage                           |\n",
    "| BUILTYR2_FPL**   | Vintage FPL                       |\n",
    "| FUELHEAT         | Heating Fuel                      |\n",
    "\n",
    "*This column does not exist presently in the PUMA data csv file. However, `dep_lst` or `option_col` can be specifed as \"BUILTYR2_FPL\"*\n",
    "\n",
    "# Import modules"
   ]
  },
  {
   "cell_type": "code",
   "execution_count": 24,
   "metadata": {},
   "outputs": [],
   "source": [
    "import os\n",
    "import sys\n",
    "import pandas as pd\n",
    "import numpy as np"
   ]
  },
  {
   "cell_type": "code",
   "execution_count": 25,
   "metadata": {},
   "outputs": [],
   "source": [
    "# Try to get the tsv_maker if it exists, then reload\n",
    "try:\n",
    "    del sys.modules['tsv_maker_puma_v1'] \n",
    "except KeyError:\n",
    "    pass\n",
    "from tsv_maker_puma_v1 import TSVMaker # Class methods to create the spatial tsvs"
   ]
  },
  {
   "cell_type": "markdown",
   "metadata": {},
   "source": [
    "# Write reformatted PUMA tsv to project folder"
   ]
  },
  {
   "cell_type": "markdown",
   "metadata": {},
   "source": [
    "The table below provides the inputs that would be need to create some of the common housing characteristics tsvs:\n",
    "\n",
    "| TSV File                   | dep_lst                              | option_col     |\n",
    "|----------------------------|--------------------------------------|----------------|\n",
    "| Geometry Building File FPL | [\"PUMA\"]                             | \"UNITSSTR\"     |\n",
    "| Vintage FPL                | [\"PUMA\",\"UNITSSTR\"]                  | \"BUILTYR2_FPL\" |\n",
    "| Vintage                    | [\"PUMA\", \"BUILTYR2_FPL\"]             | \"BUILTYR2\"     |\n",
    "| Heating Fuel               | [\"PUMA\", \"UNITSSTR\", \"BUILTYR2_FPL\"] | \"FUELHEAT\"     |\n",
    "\n"
   ]
  },
  {
   "cell_type": "code",
   "execution_count": 26,
   "metadata": {},
   "outputs": [
    {
     "name": "stdout",
     "output_type": "stream",
     "text": [
      "Initializing PUMA TSVMaker\n",
      "---------------------\n",
      "Downloading data from s3\n",
      "PUMA Files...\n",
      "Loading PUMA files\n",
      "All done! file(s) written into tsv paths!\n"
     ]
    }
   ],
   "source": [
    "# writing single files to folder \n",
    "write_tf = True\n",
    "project= \"puma_tsvs\" # select project folder\n",
    "\n",
    "# for Geometry Building Type FPL, for example,run the following:\n",
    "dep_lst = ['PUMA']\n",
    "option_col = \"UNITSSTR\"\n",
    "\n",
    "# Initialize PUMA tsv_maker object\n",
    "puma_tsv = TSVMaker(project, dep_lst, option_col)\n",
    "\n",
    "#puma_tsv.create_tsv_with_dependencies()\n",
    "# Display\n",
    "#display(puma_tsv.pivot_df.head(10))\n",
    "\n",
    "# Write new housing characteristics to project folder\n",
    "if write_tf:\n",
    "    puma_tsv.write_tsv_to_projects()"
   ]
  },
  {
   "cell_type": "code",
   "execution_count": 23,
   "metadata": {},
   "outputs": [
    {
     "name": "stdout",
     "output_type": "stream",
     "text": [
      "Initializing PUMA TSVMaker\n",
      "---------------------\n",
      "Downloading data from s3\n",
      "PUMA Files...\n",
      "Loading PUMA files\n",
      "All done! file(s) written into tsv paths!\n",
      "Initializing PUMA TSVMaker\n",
      "---------------------\n",
      "Downloading data from s3\n",
      "PUMA Files...\n",
      "Loading PUMA files\n",
      "All done! file(s) written into tsv paths!\n",
      "Initializing PUMA TSVMaker\n",
      "---------------------\n",
      "Downloading data from s3\n",
      "PUMA Files...\n",
      "Loading PUMA files\n",
      "All done! file(s) written into tsv paths!\n"
     ]
    }
   ],
   "source": [
    "## Alternatively, one could write multiple files to the folder - this takes a long while \n",
    "\n",
    "# To create Geometry Building Type FPL, Vintage FPL, and Heating Fuel tsvs, for example,run the following:\n",
    "dep_opt_lst = ([\"PUMA\"], \"UNITSSTR\"), ([\"PUMA\",\"UNITSSTR\"], \"BUILTYR2_FPL\"), ([\"PUMA\", \"UNITSSTR\", \"BUILTYR2_FPL\"],\"FUELHEAT\")\n",
    "\n",
    "for i in dep_opt_lst:\n",
    "    dep_lst = i[0]\n",
    "    option_col = i[1]\n",
    "    puma_tsv = TSVMaker(project, dep_lst, option_col)\n",
    "    \n",
    "    if write_tf:\n",
    "        puma_tsv.write_tsv_to_projects()"
   ]
  }
 ],
 "metadata": {
  "kernelspec": {
   "display_name": "Python 3",
   "language": "python",
   "name": "python3"
  },
  "language_info": {
   "codemirror_mode": {
    "name": "ipython",
    "version": 3
   },
   "file_extension": ".py",
   "mimetype": "text/x-python",
   "name": "python",
   "nbconvert_exporter": "python",
   "pygments_lexer": "ipython3",
   "version": "3.7.3"
  }
 },
 "nbformat": 4,
 "nbformat_minor": 2
}
